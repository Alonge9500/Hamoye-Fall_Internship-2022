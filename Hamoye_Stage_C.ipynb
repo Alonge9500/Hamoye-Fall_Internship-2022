{
  "nbformat": 4,
  "nbformat_minor": 0,
  "metadata": {
    "colab": {
      "provenance": [],
      "authorship_tag": "ABX9TyOmpeCQ1DA3G74chVhzzS9c",
      "include_colab_link": true
    },
    "kernelspec": {
      "name": "python3",
      "display_name": "Python 3"
    },
    "language_info": {
      "name": "python"
    }
  },
  "cells": [
    {
      "cell_type": "markdown",
      "metadata": {
        "id": "view-in-github",
        "colab_type": "text"
      },
      "source": [
        "<a href=\"https://colab.research.google.com/github/Alonge9500/Hamoye-Fall_Internship-2022/blob/main/Hamoye_Stage_C.ipynb\" target=\"_parent\"><img src=\"https://colab.research.google.com/assets/colab-badge.svg\" alt=\"Open In Colab\"/></a>"
      ]
    },
    {
      "cell_type": "code",
      "execution_count": 8,
      "metadata": {
        "id": "MzlDgAvI1ERG"
      },
      "outputs": [],
      "source": [
        "import matplotlib.pyplot as plt\n",
        "import pandas as pd\n",
        "import numpy as np\n",
        "\n",
        "df = pd.read_csv('https://archive.ics.uci.edu/ml/machine-learning-databases/00471/Data_for_UCI_named.csv')\n",
        "\n",
        "df.head()\n",
        "df.drop(\"stab\", axis=1, inplace=True)\n",
        "\n",
        "x = df.drop(columns=['stabf'])\n",
        "\n",
        "y = df['stabf']\n",
        "\n",
        "from sklearn.model_selection import train_test_split\n",
        "\n",
        "x_train, x_test, y_train, y_test = train_test_split(x, y, test_size=0.2, random_state=1)\n",
        "\n",
        "\n",
        "\n"
      ]
    },
    {
      "cell_type": "code",
      "source": [
        "from sklearn.ensemble import RandomForestClassifier\n",
        "\n",
        "forest = RandomForestClassifier(random_state = 1)\n",
        "\n",
        "forest.fit(x_train, y_train)\n",
        "\n",
        "predictionrandom = forest.predict(x_test)\n",
        "\n",
        "from sklearn.metrics import accuracy_score\n",
        "\n",
        "accuracy = accuracy_score(y_test, predictionrandom)\n",
        "print(accuracy)\n"
      ],
      "metadata": {
        "colab": {
          "base_uri": "https://localhost:8080/"
        },
        "id": "ymE1pTs51HJ-",
        "outputId": "c7b57483-3d01-4847-e4e8-654e37628325"
      },
      "execution_count": 10,
      "outputs": [
        {
          "output_type": "stream",
          "name": "stdout",
          "text": [
            "0.929\n"
          ]
        }
      ]
    },
    {
      "cell_type": "code",
      "source": [
        "from xgboost import XGBClassifier\n",
        "\n",
        "xgboost= XGBClassifier(random_state = 1)\n",
        "\n",
        "#fit on train set\n",
        "xgboost.fit(x_train, y_train)\n",
        "xgboostpred = xgboost.predict(x_test)\n",
        "xgboostacc = accuracy_score(y_test, xgboostpred)\n",
        "print(xgboostacc)"
      ],
      "metadata": {
        "colab": {
          "base_uri": "https://localhost:8080/"
        },
        "id": "i9OShrdJ1c6e",
        "outputId": "ebad91c2-a881-4c47-f697-70290209db4d"
      },
      "execution_count": 11,
      "outputs": [
        {
          "output_type": "stream",
          "name": "stdout",
          "text": [
            "0.9195\n"
          ]
        }
      ]
    },
    {
      "cell_type": "code",
      "source": [
        "from lightgbm import LGBMClassifier\n",
        "\n",
        "lightmodel= LGBMClassifier(random_state = 1)\n",
        "\n",
        "\n",
        "lightmodel.fit(x_train, y_train)\n",
        "     \n",
        "lightmodelpred = lightmodel.predict(x_test)\n",
        "\n",
        "lightmodelacc = accuracy_score(y_test, lightmodelpred)\n",
        "print(lightmodelacc)"
      ],
      "metadata": {
        "colab": {
          "base_uri": "https://localhost:8080/"
        },
        "id": "bv7B0I-e1rP2",
        "outputId": "2262461f-a9b7-4be4-d251-241abbda2ccb"
      },
      "execution_count": 12,
      "outputs": [
        {
          "output_type": "stream",
          "name": "stdout",
          "text": [
            "0.9375\n"
          ]
        }
      ]
    },
    {
      "cell_type": "code",
      "source": [
        "from sklearn.ensemble import ExtraTreesClassifier\n",
        "from sklearn.model_selection import RandomizedSearchCV\n",
        "from scipy.stats import uniform as sp_randFloat\n",
        "from scipy.stats import randint as sp_randInt\n",
        "from scipy.stats import loguniform\n",
        "from random import randint\n",
        "n_estimators = [50, 100, 300, 500, 1000]\n",
        "\n",
        "min_samples_split = [2, 3, 5, 7, 9]\n",
        "\n",
        "min_samples_leaf = [1, 2, 4, 6, 8]\n",
        "\n",
        "max_features = ['auto', 'sqrt', 'log2', None] \n",
        "\n",
        "parameters = {'n_estimators': n_estimators,\n",
        "\n",
        "                       'min_samples_leaf': min_samples_leaf,\n",
        "\n",
        "                       'min_samples_split': min_samples_split,\n",
        "\n",
        "                       'max_features': max_features}\n",
        "\n",
        "extramodel = ExtraTreesClassifier(random_state = 1)\n",
        "\n",
        "\n",
        "randomsearchcv = RandomizedSearchCV(extramodel,param_distributions=parameters,\n",
        "                              cv=5, n_iter=10, scoring = 'accuracy', n_jobs = -1, verbose = 1,\n",
        "                              random_state = 1)\n",
        "randomsearchcvmode = randomsearchcv.fit(x_train,y_train)"
      ],
      "metadata": {
        "colab": {
          "base_uri": "https://localhost:8080/"
        },
        "id": "IHoh8x1O4Vnt",
        "outputId": "5df3e0cb-85c3-4639-bc3e-efa4ed0c2eb9"
      },
      "execution_count": 22,
      "outputs": [
        {
          "output_type": "stream",
          "name": "stdout",
          "text": [
            "Fitting 5 folds for each of 10 candidates, totalling 50 fits\n"
          ]
        }
      ]
    },
    {
      "cell_type": "code",
      "source": [
        "randomsearchcvmode.best_params_"
      ],
      "metadata": {
        "colab": {
          "base_uri": "https://localhost:8080/"
        },
        "id": "_bj5GKBs5V9D",
        "outputId": "765cc72a-0faf-4320-c683-0a0db2bfa68b"
      },
      "execution_count": 23,
      "outputs": [
        {
          "output_type": "execute_result",
          "data": {
            "text/plain": [
              "{'n_estimators': 1000,\n",
              " 'min_samples_split': 2,\n",
              " 'min_samples_leaf': 8,\n",
              " 'max_features': None}"
            ]
          },
          "metadata": {},
          "execution_count": 23
        }
      ]
    },
    {
      "cell_type": "code",
      "source": [
        "extramodel.fit(x_train,y_train)"
      ],
      "metadata": {
        "colab": {
          "base_uri": "https://localhost:8080/"
        },
        "id": "zt8q1SX6wPlJ",
        "outputId": "e193eaf0-f233-460d-873c-60bcd38dc8a4"
      },
      "execution_count": 29,
      "outputs": [
        {
          "output_type": "execute_result",
          "data": {
            "text/plain": [
              "ExtraTreesClassifier(random_state=1)"
            ]
          },
          "metadata": {},
          "execution_count": 29
        }
      ]
    },
    {
      "cell_type": "code",
      "source": [
        "featureim = dict(zip(x_train.columns,extramodel.feature_importances_))"
      ],
      "metadata": {
        "id": "k7ThswAUwl47"
      },
      "execution_count": 38,
      "outputs": []
    },
    {
      "cell_type": "code",
      "source": [
        "for key,value in featureim.items():\n",
        "  print(key,\" \",value)"
      ],
      "metadata": {
        "colab": {
          "base_uri": "https://localhost:8080/"
        },
        "id": "CgnCbuQhxC9H",
        "outputId": "e2845589-8433-4d4b-e4e5-b6a66aeb3c90"
      },
      "execution_count": 40,
      "outputs": [
        {
          "output_type": "stream",
          "name": "stdout",
          "text": [
            "tau1   0.11739736493320078\n",
            "tau2   0.11844468079199041\n",
            "tau3   0.11316851246674982\n",
            "tau4   0.11546569217199552\n",
            "p1   0.039506754233827476\n",
            "p2   0.04037131556379323\n",
            "p3   0.040706278296424536\n",
            "p4   0.040578638540044426\n",
            "g1   0.08978290601483987\n",
            "g2   0.09367635844551439\n",
            "g3   0.09688268324346265\n",
            "g4   0.09401881529815702\n"
          ]
        }
      ]
    },
    {
      "cell_type": "code",
      "source": [],
      "metadata": {
        "id": "A9U9T5f7xLe8"
      },
      "execution_count": null,
      "outputs": []
    }
  ]
}